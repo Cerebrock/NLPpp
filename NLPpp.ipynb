{
 "cells": [
  {
   "cell_type": "markdown",
   "metadata": {},
   "source": [
    "### Importo"
   ]
  },
  {
   "cell_type": "code",
   "execution_count": 1,
   "metadata": {
    "collapsed": true
   },
   "outputs": [],
   "source": [
    "import pandas as pd\n",
    "import re\n",
    "import numpy as np\n",
    "import json\n",
    "import warnings\n",
    "import seaborn as sns; sns.set()\n",
    "import matplotlib.pyplot as plt\n",
    "%matplotlib inline\n",
    "\n",
    "warnings.filterwarnings('ignore')"
   ]
  },
  {
   "cell_type": "markdown",
   "metadata": {},
   "source": [
    "## Cargo los datos"
   ]
  },
  {
   "cell_type": "code",
   "execution_count": 2,
   "metadata": {
    "collapsed": true
   },
   "outputs": [],
   "source": [
    "with open('MensajesLPjson.txt', 'r') as inp:\n",
    "    data = json.load(inp)"
   ]
  },
  {
   "cell_type": "code",
   "execution_count": 3,
   "metadata": {},
   "outputs": [
    {
     "data": {
      "text/html": [
       "<div>\n",
       "<style scoped>\n",
       "    .dataframe tbody tr th:only-of-type {\n",
       "        vertical-align: middle;\n",
       "    }\n",
       "\n",
       "    .dataframe tbody tr th {\n",
       "        vertical-align: top;\n",
       "    }\n",
       "\n",
       "    .dataframe thead th {\n",
       "        text-align: right;\n",
       "    }\n",
       "</style>\n",
       "<table border=\"1\" class=\"dataframe\">\n",
       "  <thead>\n",
       "    <tr style=\"text-align: right;\">\n",
       "      <th></th>\n",
       "      <th>request_msg_id</th>\n",
       "      <th>confirm_received</th>\n",
       "      <th>rpc_error</th>\n",
       "      <th>content_related</th>\n",
       "      <th>out</th>\n",
       "      <th>mentioned</th>\n",
       "      <th>media_unread</th>\n",
       "      <th>silent</th>\n",
       "      <th>post</th>\n",
       "      <th>id</th>\n",
       "      <th>...</th>\n",
       "      <th>reply_markup</th>\n",
       "      <th>entities</th>\n",
       "      <th>views</th>\n",
       "      <th>edit_date</th>\n",
       "      <th>post_author</th>\n",
       "      <th>grouped_id</th>\n",
       "      <th>name</th>\n",
       "      <th>username</th>\n",
       "      <th>phone</th>\n",
       "      <th>action</th>\n",
       "    </tr>\n",
       "  </thead>\n",
       "  <tbody>\n",
       "    <tr>\n",
       "      <th>200</th>\n",
       "      <td>0</td>\n",
       "      <td>&lt;threading.Event object at 0x7fd777521780&gt;</td>\n",
       "      <td>None</td>\n",
       "      <td>False</td>\n",
       "      <td>False</td>\n",
       "      <td>False</td>\n",
       "      <td>False</td>\n",
       "      <td>False</td>\n",
       "      <td>False</td>\n",
       "      <td>200</td>\n",
       "      <td>...</td>\n",
       "      <td>None</td>\n",
       "      <td>None</td>\n",
       "      <td>None</td>\n",
       "      <td>None</td>\n",
       "      <td>None</td>\n",
       "      <td>None</td>\n",
       "      <td>Nacho</td>\n",
       "      <td>None</td>\n",
       "      <td>541140577323</td>\n",
       "      <td>NaN</td>\n",
       "    </tr>\n",
       "    <tr>\n",
       "      <th>201</th>\n",
       "      <td>0</td>\n",
       "      <td>&lt;threading.Event object at 0x7fd777521860&gt;</td>\n",
       "      <td>None</td>\n",
       "      <td>False</td>\n",
       "      <td>False</td>\n",
       "      <td>False</td>\n",
       "      <td>False</td>\n",
       "      <td>False</td>\n",
       "      <td>False</td>\n",
       "      <td>201</td>\n",
       "      <td>...</td>\n",
       "      <td>None</td>\n",
       "      <td>None</td>\n",
       "      <td>None</td>\n",
       "      <td>None</td>\n",
       "      <td>None</td>\n",
       "      <td>None</td>\n",
       "      <td>None</td>\n",
       "      <td>None</td>\n",
       "      <td>None</td>\n",
       "      <td>NaN</td>\n",
       "    </tr>\n",
       "    <tr>\n",
       "      <th>202</th>\n",
       "      <td>0</td>\n",
       "      <td>&lt;threading.Event object at 0x7fd7775216d8&gt;</td>\n",
       "      <td>None</td>\n",
       "      <td>False</td>\n",
       "      <td>False</td>\n",
       "      <td>False</td>\n",
       "      <td>False</td>\n",
       "      <td>False</td>\n",
       "      <td>False</td>\n",
       "      <td>202</td>\n",
       "      <td>...</td>\n",
       "      <td>None</td>\n",
       "      <td>None</td>\n",
       "      <td>None</td>\n",
       "      <td>None</td>\n",
       "      <td>None</td>\n",
       "      <td>None</td>\n",
       "      <td>None</td>\n",
       "      <td>None</td>\n",
       "      <td>None</td>\n",
       "      <td>NaN</td>\n",
       "    </tr>\n",
       "    <tr>\n",
       "      <th>203</th>\n",
       "      <td>0</td>\n",
       "      <td>&lt;threading.Event object at 0x7fd777521a58&gt;</td>\n",
       "      <td>None</td>\n",
       "      <td>False</td>\n",
       "      <td>False</td>\n",
       "      <td>False</td>\n",
       "      <td>False</td>\n",
       "      <td>False</td>\n",
       "      <td>False</td>\n",
       "      <td>203</td>\n",
       "      <td>...</td>\n",
       "      <td>None</td>\n",
       "      <td>None</td>\n",
       "      <td>None</td>\n",
       "      <td>None</td>\n",
       "      <td>None</td>\n",
       "      <td>None</td>\n",
       "      <td>None</td>\n",
       "      <td>None</td>\n",
       "      <td>None</td>\n",
       "      <td>NaN</td>\n",
       "    </tr>\n",
       "    <tr>\n",
       "      <th>204</th>\n",
       "      <td>0</td>\n",
       "      <td>&lt;threading.Event object at 0x7fd7775215f8&gt;</td>\n",
       "      <td>None</td>\n",
       "      <td>False</td>\n",
       "      <td>False</td>\n",
       "      <td>False</td>\n",
       "      <td>False</td>\n",
       "      <td>False</td>\n",
       "      <td>False</td>\n",
       "      <td>204</td>\n",
       "      <td>...</td>\n",
       "      <td>None</td>\n",
       "      <td>None</td>\n",
       "      <td>None</td>\n",
       "      <td>None</td>\n",
       "      <td>None</td>\n",
       "      <td>None</td>\n",
       "      <td>Nacho</td>\n",
       "      <td>None</td>\n",
       "      <td>541140577323</td>\n",
       "      <td>NaN</td>\n",
       "    </tr>\n",
       "  </tbody>\n",
       "</table>\n",
       "<p>5 rows × 28 columns</p>\n",
       "</div>"
      ],
      "text/plain": [
       "    request_msg_id                            confirm_received rpc_error  \\\n",
       "200              0  <threading.Event object at 0x7fd777521780>      None   \n",
       "201              0  <threading.Event object at 0x7fd777521860>      None   \n",
       "202              0  <threading.Event object at 0x7fd7775216d8>      None   \n",
       "203              0  <threading.Event object at 0x7fd777521a58>      None   \n",
       "204              0  <threading.Event object at 0x7fd7775215f8>      None   \n",
       "\n",
       "    content_related    out mentioned media_unread silent   post   id  ...    \\\n",
       "200           False  False     False        False  False  False  200  ...     \n",
       "201           False  False     False        False  False  False  201  ...     \n",
       "202           False  False     False        False  False  False  202  ...     \n",
       "203           False  False     False        False  False  False  203  ...     \n",
       "204           False  False     False        False  False  False  204  ...     \n",
       "\n",
       "    reply_markup entities views edit_date post_author grouped_id   name  \\\n",
       "200         None     None  None      None        None       None  Nacho   \n",
       "201         None     None  None      None        None       None   None   \n",
       "202         None     None  None      None        None       None   None   \n",
       "203         None     None  None      None        None       None   None   \n",
       "204         None     None  None      None        None       None  Nacho   \n",
       "\n",
       "    username         phone action  \n",
       "200     None  541140577323    NaN  \n",
       "201     None          None    NaN  \n",
       "202     None          None    NaN  \n",
       "203     None          None    NaN  \n",
       "204     None  541140577323    NaN  \n",
       "\n",
       "[5 rows x 28 columns]"
      ]
     },
     "execution_count": 3,
     "metadata": {},
     "output_type": "execute_result"
    }
   ],
   "source": [
    "df = pd.DataFrame.from_dict(data, orient = 'index')\n",
    "df.index = df.index.map(int)\n",
    "df.sort_index(inplace=True)\n",
    "df.head(5)"
   ]
  },
  {
   "cell_type": "markdown",
   "metadata": {},
   "source": [
    "## Preprocesamiento"
   ]
  },
  {
   "cell_type": "code",
   "execution_count": 4,
   "metadata": {},
   "outputs": [
    {
     "data": {
      "text/plain": [
       "Index(['request_msg_id', 'confirm_received', 'rpc_error', 'content_related',\n",
       "       'out', 'mentioned', 'media_unread', 'silent', 'post', 'id', 'from_id',\n",
       "       'to_id', 'fwd_from', 'via_bot_id', 'reply_to_msg_id', 'date', 'message',\n",
       "       'media', 'reply_markup', 'entities', 'views', 'edit_date',\n",
       "       'post_author', 'grouped_id', 'name', 'username', 'phone', 'action'],\n",
       "      dtype='object')"
      ]
     },
     "execution_count": 4,
     "metadata": {},
     "output_type": "execute_result"
    }
   ],
   "source": [
    "df.columns"
   ]
  },
  {
   "cell_type": "code",
   "execution_count": 5,
   "metadata": {
    "collapsed": true
   },
   "outputs": [],
   "source": [
    "df['date'] = pd.to_datetime(df['date'])\n",
    "df['id'] = pd.to_numeric(df['id'])\n",
    "df = df.groupby('id').agg('first')\n",
    "df.replace('Facundo Sebastián', 'Facu', inplace=True)\n",
    "df.replace('None', 'Facu', inplace=True)\n",
    "df.message.fillna('', inplace=True)\n",
    "\n",
    "#drop bots and people with few msgs\n",
    "\n",
    "#df[df['name'] == 'None'].to_csv('Mensajes None.csv', encoding = 'utf-8')\n",
    "df = df[~df.name.isin(['Meeting Coordinator', 'PollBot', 'Agustin', 'Ezequiel'])]"
   ]
  },
  {
   "cell_type": "code",
   "execution_count": 6,
   "metadata": {},
   "outputs": [
    {
     "data": {
      "text/html": [
       "<div>\n",
       "<style scoped>\n",
       "    .dataframe tbody tr th:only-of-type {\n",
       "        vertical-align: middle;\n",
       "    }\n",
       "\n",
       "    .dataframe tbody tr th {\n",
       "        vertical-align: top;\n",
       "    }\n",
       "\n",
       "    .dataframe thead th {\n",
       "        text-align: right;\n",
       "    }\n",
       "</style>\n",
       "<table border=\"1\" class=\"dataframe\">\n",
       "  <thead>\n",
       "    <tr style=\"text-align: right;\">\n",
       "      <th></th>\n",
       "      <th>id</th>\n",
       "      <th>name</th>\n",
       "      <th>date</th>\n",
       "      <th>message</th>\n",
       "    </tr>\n",
       "    <tr>\n",
       "      <th>id</th>\n",
       "      <th></th>\n",
       "      <th></th>\n",
       "      <th></th>\n",
       "      <th></th>\n",
       "    </tr>\n",
       "  </thead>\n",
       "  <tbody>\n",
       "    <tr>\n",
       "      <th>200</th>\n",
       "      <td>NaN</td>\n",
       "      <td>Nacho</td>\n",
       "      <td>2016-10-06 16:52:29</td>\n",
       "      <td>ustedes si alguna vez se cruzan un brasilero g...</td>\n",
       "    </tr>\n",
       "    <tr>\n",
       "      <th>201</th>\n",
       "      <td>NaN</td>\n",
       "      <td>Facu</td>\n",
       "      <td>2016-10-06 16:52:43</td>\n",
       "      <td>que rico los chipirones</td>\n",
       "    </tr>\n",
       "    <tr>\n",
       "      <th>202</th>\n",
       "      <td>NaN</td>\n",
       "      <td>Facu</td>\n",
       "      <td>2016-10-06 16:53:10</td>\n",
       "      <td>Me pusieron el preocupación al a las 7.30 AM</td>\n",
       "    </tr>\n",
       "    <tr>\n",
       "      <th>203</th>\n",
       "      <td>NaN</td>\n",
       "      <td>Facu</td>\n",
       "      <td>2016-10-06 16:53:13</td>\n",
       "      <td>Cuanta maldad</td>\n",
       "    </tr>\n",
       "    <tr>\n",
       "      <th>204</th>\n",
       "      <td>NaN</td>\n",
       "      <td>Nacho</td>\n",
       "      <td>2016-10-06 16:53:52</td>\n",
       "      <td>levantate y clavate una linea de merca</td>\n",
       "    </tr>\n",
       "  </tbody>\n",
       "</table>\n",
       "</div>"
      ],
      "text/plain": [
       "     id   name                date  \\\n",
       "id                                   \n",
       "200 NaN  Nacho 2016-10-06 16:52:29   \n",
       "201 NaN   Facu 2016-10-06 16:52:43   \n",
       "202 NaN   Facu 2016-10-06 16:53:10   \n",
       "203 NaN   Facu 2016-10-06 16:53:13   \n",
       "204 NaN  Nacho 2016-10-06 16:53:52   \n",
       "\n",
       "                                               message  \n",
       "id                                                      \n",
       "200  ustedes si alguna vez se cruzan un brasilero g...  \n",
       "201                            que rico los chipirones  \n",
       "202       Me pusieron el preocupación al a las 7.30 AM  \n",
       "203                                      Cuanta maldad  \n",
       "204             levantate y clavate una linea de merca  "
      ]
     },
     "execution_count": 6,
     "metadata": {},
     "output_type": "execute_result"
    }
   ],
   "source": [
    "df1 = df.loc[:,['id', 'name', 'date', 'message']]\n",
    "df1.head()"
   ]
  },
  {
   "cell_type": "code",
   "execution_count": 7,
   "metadata": {},
   "outputs": [
    {
     "data": {
      "text/plain": [
       "139088"
      ]
     },
     "execution_count": 7,
     "metadata": {},
     "output_type": "execute_result"
    }
   ],
   "source": [
    "df.index.max()"
   ]
  },
  {
   "cell_type": "code",
   "execution_count": 8,
   "metadata": {},
   "outputs": [
    {
     "data": {
      "text/plain": [
       "11529"
      ]
     },
     "execution_count": 8,
     "metadata": {},
     "output_type": "execute_result"
    }
   ],
   "source": [
    "faltantes = set(range(200, df.index.max())) - set(df.index)\n",
    "len(faltantes)"
   ]
  },
  {
   "cell_type": "code",
   "execution_count": 9,
   "metadata": {},
   "outputs": [
    {
     "data": {
      "text/plain": [
       "array([21816, 20314, 16668, 12858,  9730,  8895,  8795,  8004,  7719,\n",
       "        4570,  3497,  2291,  2203])"
      ]
     },
     "execution_count": 9,
     "metadata": {},
     "output_type": "execute_result"
    },
    {
     "data": {
      "image/png": "[encoded data removed]",
      "text/plain": [
       "<Figure size 1080x720 with 1 Axes>"
      ]
     },
     "metadata": {
      "needs_background": "light"
     },
     "output_type": "display_data"
    }
   ],
   "source": [
    "names =  df.name.value_counts().index\n",
    "values = df.name.value_counts().values\n",
    "\n",
    "plt.figure(figsize=(15, 10))\n",
    "bar = sns.barplot(names, values)\n",
    "bar.set_xticklabels(names, rotation=60);\n",
    "values"
   ]
  },
  {
   "cell_type": "markdown",
   "metadata": {},
   "source": [
    "## Actividad"
   ]
  },
  {
   "cell_type": "code",
   "execution_count": 10,
   "metadata": {},
   "outputs": [
    {
     "data": {
      "text/plain": [
       "13"
      ]
     },
     "execution_count": 10,
     "metadata": {},
     "output_type": "execute_result"
    }
   ],
   "source": [
    "gente = list(set(df.name.unique()) - set(['PollBot', 'Meeting Coordinator']))\n",
    "len(gente)"
   ]
  },
  {
   "cell_type": "code",
   "execution_count": 11,
   "metadata": {
    "scrolled": true
   },
   "outputs": [
    {
     "data": {
      "image/png": "[encoded data removed]",
      "text/plain": [
       "<Figure size 1080x1080 with 15 Axes>"
      ]
     },
     "metadata": {
      "needs_background": "light"
     },
     "output_type": "display_data"
    }
   ],
   "source": [
    "fig, axes = plt.subplots(5, 3, figsize = (15, 15))\n",
    "\n",
    "i,j = 0,0\n",
    "lista = []\n",
    "for persona in gente:\n",
    "    ax = axes[j][i]\n",
    "    lista.append(df[df['name'] == persona].date.apply(lambda x: x.hour)\\\n",
    "        .value_counts().sort_index())\n",
    "    df[df['name'] == persona].date.apply(lambda x: x.hour)\\\n",
    "        .value_counts().sort_index().plot(title = persona, ax = ax)\n",
    "    ax.set_xticks(range(0, 23))\n",
    "    ax.set_ylim(0, 2000)\n",
    "\n",
    "    i += 1\n",
    "    if i == 3:\n",
    "        i = 0\n",
    "        j += 1\n",
    "        \n",
    "plt.tight_layout()"
   ]
  },
  {
   "cell_type": "code",
   "execution_count": 12,
   "metadata": {
    "collapsed": true
   },
   "outputs": [],
   "source": [
    "por_hora = pd.DataFrame({p:l for p,l in zip(gente, lista)}).fillna(method = 'bfill').T"
   ]
  },
  {
   "cell_type": "code",
   "execution_count": 13,
   "metadata": {},
   "outputs": [
    {
     "data": {
      "text/html": [
       "<div>\n",
       "<style scoped>\n",
       "    .dataframe tbody tr th:only-of-type {\n",
       "        vertical-align: middle;\n",
       "    }\n",
       "\n",
       "    .dataframe tbody tr th {\n",
       "        vertical-align: top;\n",
       "    }\n",
       "\n",
       "    .dataframe thead th {\n",
       "        text-align: right;\n",
       "    }\n",
       "</style>\n",
       "<table border=\"1\" class=\"dataframe\">\n",
       "  <thead>\n",
       "    <tr style=\"text-align: right;\">\n",
       "      <th></th>\n",
       "      <th>0</th>\n",
       "      <th>1</th>\n",
       "      <th>2</th>\n",
       "      <th>3</th>\n",
       "      <th>4</th>\n",
       "      <th>5</th>\n",
       "      <th>6</th>\n",
       "      <th>7</th>\n",
       "      <th>8</th>\n",
       "      <th>9</th>\n",
       "      <th>...</th>\n",
       "      <th>14</th>\n",
       "      <th>15</th>\n",
       "      <th>16</th>\n",
       "      <th>17</th>\n",
       "      <th>18</th>\n",
       "      <th>19</th>\n",
       "      <th>20</th>\n",
       "      <th>21</th>\n",
       "      <th>22</th>\n",
       "      <th>23</th>\n",
       "    </tr>\n",
       "  </thead>\n",
       "  <tbody>\n",
       "    <tr>\n",
       "      <th>Facu</th>\n",
       "      <td>638.0</td>\n",
       "      <td>581.0</td>\n",
       "      <td>476.0</td>\n",
       "      <td>298.0</td>\n",
       "      <td>139.0</td>\n",
       "      <td>30.0</td>\n",
       "      <td>17.0</td>\n",
       "      <td>5.0</td>\n",
       "      <td>2.0</td>\n",
       "      <td>10.0</td>\n",
       "      <td>...</td>\n",
       "      <td>1122.0</td>\n",
       "      <td>1518.0</td>\n",
       "      <td>1370.0</td>\n",
       "      <td>1700.0</td>\n",
       "      <td>1456.0</td>\n",
       "      <td>1238.0</td>\n",
       "      <td>1086.0</td>\n",
       "      <td>1013.0</td>\n",
       "      <td>881.0</td>\n",
       "      <td>767.0</td>\n",
       "    </tr>\n",
       "    <tr>\n",
       "      <th>Nacho</th>\n",
       "      <td>743.0</td>\n",
       "      <td>748.0</td>\n",
       "      <td>754.0</td>\n",
       "      <td>351.0</td>\n",
       "      <td>151.0</td>\n",
       "      <td>70.0</td>\n",
       "      <td>19.0</td>\n",
       "      <td>13.0</td>\n",
       "      <td>8.0</td>\n",
       "      <td>15.0</td>\n",
       "      <td>...</td>\n",
       "      <td>777.0</td>\n",
       "      <td>1044.0</td>\n",
       "      <td>1166.0</td>\n",
       "      <td>1216.0</td>\n",
       "      <td>980.0</td>\n",
       "      <td>963.0</td>\n",
       "      <td>748.0</td>\n",
       "      <td>709.0</td>\n",
       "      <td>732.0</td>\n",
       "      <td>635.0</td>\n",
       "    </tr>\n",
       "    <tr>\n",
       "      <th>Gatti</th>\n",
       "      <td>531.0</td>\n",
       "      <td>582.0</td>\n",
       "      <td>573.0</td>\n",
       "      <td>521.0</td>\n",
       "      <td>230.0</td>\n",
       "      <td>121.0</td>\n",
       "      <td>73.0</td>\n",
       "      <td>56.0</td>\n",
       "      <td>27.0</td>\n",
       "      <td>14.0</td>\n",
       "      <td>...</td>\n",
       "      <td>371.0</td>\n",
       "      <td>595.0</td>\n",
       "      <td>645.0</td>\n",
       "      <td>764.0</td>\n",
       "      <td>731.0</td>\n",
       "      <td>610.0</td>\n",
       "      <td>627.0</td>\n",
       "      <td>487.0</td>\n",
       "      <td>485.0</td>\n",
       "      <td>499.0</td>\n",
       "    </tr>\n",
       "    <tr>\n",
       "      <th>German</th>\n",
       "      <td>660.0</td>\n",
       "      <td>859.0</td>\n",
       "      <td>633.0</td>\n",
       "      <td>376.0</td>\n",
       "      <td>53.0</td>\n",
       "      <td>15.0</td>\n",
       "      <td>5.0</td>\n",
       "      <td>15.0</td>\n",
       "      <td>11.0</td>\n",
       "      <td>2.0</td>\n",
       "      <td>...</td>\n",
       "      <td>622.0</td>\n",
       "      <td>1198.0</td>\n",
       "      <td>929.0</td>\n",
       "      <td>743.0</td>\n",
       "      <td>628.0</td>\n",
       "      <td>499.0</td>\n",
       "      <td>363.0</td>\n",
       "      <td>404.0</td>\n",
       "      <td>549.0</td>\n",
       "      <td>515.0</td>\n",
       "    </tr>\n",
       "    <tr>\n",
       "      <th>Cister</th>\n",
       "      <td>325.0</td>\n",
       "      <td>353.0</td>\n",
       "      <td>367.0</td>\n",
       "      <td>335.0</td>\n",
       "      <td>117.0</td>\n",
       "      <td>32.0</td>\n",
       "      <td>22.0</td>\n",
       "      <td>20.0</td>\n",
       "      <td>23.0</td>\n",
       "      <td>3.0</td>\n",
       "      <td>...</td>\n",
       "      <td>354.0</td>\n",
       "      <td>591.0</td>\n",
       "      <td>605.0</td>\n",
       "      <td>816.0</td>\n",
       "      <td>570.0</td>\n",
       "      <td>694.0</td>\n",
       "      <td>507.0</td>\n",
       "      <td>433.0</td>\n",
       "      <td>316.0</td>\n",
       "      <td>356.0</td>\n",
       "    </tr>\n",
       "    <tr>\n",
       "      <th>Mati</th>\n",
       "      <td>312.0</td>\n",
       "      <td>587.0</td>\n",
       "      <td>645.0</td>\n",
       "      <td>461.0</td>\n",
       "      <td>236.0</td>\n",
       "      <td>107.0</td>\n",
       "      <td>72.0</td>\n",
       "      <td>17.0</td>\n",
       "      <td>25.0</td>\n",
       "      <td>12.0</td>\n",
       "      <td>...</td>\n",
       "      <td>216.0</td>\n",
       "      <td>365.0</td>\n",
       "      <td>723.0</td>\n",
       "      <td>709.0</td>\n",
       "      <td>655.0</td>\n",
       "      <td>434.0</td>\n",
       "      <td>441.0</td>\n",
       "      <td>519.0</td>\n",
       "      <td>564.0</td>\n",
       "      <td>440.0</td>\n",
       "    </tr>\n",
       "    <tr>\n",
       "      <th>lucas</th>\n",
       "      <td>140.0</td>\n",
       "      <td>90.0</td>\n",
       "      <td>102.0</td>\n",
       "      <td>45.0</td>\n",
       "      <td>30.0</td>\n",
       "      <td>18.0</td>\n",
       "      <td>4.0</td>\n",
       "      <td>5.0</td>\n",
       "      <td>7.0</td>\n",
       "      <td>3.0</td>\n",
       "      <td>...</td>\n",
       "      <td>223.0</td>\n",
       "      <td>204.0</td>\n",
       "      <td>193.0</td>\n",
       "      <td>128.0</td>\n",
       "      <td>112.0</td>\n",
       "      <td>140.0</td>\n",
       "      <td>123.0</td>\n",
       "      <td>108.0</td>\n",
       "      <td>179.0</td>\n",
       "      <td>181.0</td>\n",
       "    </tr>\n",
       "    <tr>\n",
       "      <th>Petrillo</th>\n",
       "      <td>106.0</td>\n",
       "      <td>98.0</td>\n",
       "      <td>91.0</td>\n",
       "      <td>87.0</td>\n",
       "      <td>121.0</td>\n",
       "      <td>8.0</td>\n",
       "      <td>6.0</td>\n",
       "      <td>1.0</td>\n",
       "      <td>2.0</td>\n",
       "      <td>2.0</td>\n",
       "      <td>...</td>\n",
       "      <td>110.0</td>\n",
       "      <td>206.0</td>\n",
       "      <td>160.0</td>\n",
       "      <td>274.0</td>\n",
       "      <td>187.0</td>\n",
       "      <td>144.0</td>\n",
       "      <td>78.0</td>\n",
       "      <td>74.0</td>\n",
       "      <td>120.0</td>\n",
       "      <td>89.0</td>\n",
       "    </tr>\n",
       "    <tr>\n",
       "      <th>Lioni</th>\n",
       "      <td>412.0</td>\n",
       "      <td>464.0</td>\n",
       "      <td>534.0</td>\n",
       "      <td>362.0</td>\n",
       "      <td>175.0</td>\n",
       "      <td>53.0</td>\n",
       "      <td>43.0</td>\n",
       "      <td>31.0</td>\n",
       "      <td>13.0</td>\n",
       "      <td>26.0</td>\n",
       "      <td>...</td>\n",
       "      <td>371.0</td>\n",
       "      <td>771.0</td>\n",
       "      <td>722.0</td>\n",
       "      <td>927.0</td>\n",
       "      <td>693.0</td>\n",
       "      <td>653.0</td>\n",
       "      <td>595.0</td>\n",
       "      <td>468.0</td>\n",
       "      <td>552.0</td>\n",
       "      <td>469.0</td>\n",
       "    </tr>\n",
       "    <tr>\n",
       "      <th>Ciro</th>\n",
       "      <td>857.0</td>\n",
       "      <td>941.0</td>\n",
       "      <td>1138.0</td>\n",
       "      <td>742.0</td>\n",
       "      <td>241.0</td>\n",
       "      <td>64.0</td>\n",
       "      <td>40.0</td>\n",
       "      <td>25.0</td>\n",
       "      <td>5.0</td>\n",
       "      <td>10.0</td>\n",
       "      <td>...</td>\n",
       "      <td>1385.0</td>\n",
       "      <td>1720.0</td>\n",
       "      <td>1529.0</td>\n",
       "      <td>1589.0</td>\n",
       "      <td>1572.0</td>\n",
       "      <td>1436.0</td>\n",
       "      <td>1404.0</td>\n",
       "      <td>1182.0</td>\n",
       "      <td>1059.0</td>\n",
       "      <td>989.0</td>\n",
       "    </tr>\n",
       "    <tr>\n",
       "      <th>Pablo</th>\n",
       "      <td>291.0</td>\n",
       "      <td>304.0</td>\n",
       "      <td>460.0</td>\n",
       "      <td>210.0</td>\n",
       "      <td>100.0</td>\n",
       "      <td>23.0</td>\n",
       "      <td>9.0</td>\n",
       "      <td>7.0</td>\n",
       "      <td>8.0</td>\n",
       "      <td>3.0</td>\n",
       "      <td>...</td>\n",
       "      <td>152.0</td>\n",
       "      <td>161.0</td>\n",
       "      <td>187.0</td>\n",
       "      <td>347.0</td>\n",
       "      <td>271.0</td>\n",
       "      <td>337.0</td>\n",
       "      <td>370.0</td>\n",
       "      <td>446.0</td>\n",
       "      <td>281.0</td>\n",
       "      <td>354.0</td>\n",
       "    </tr>\n",
       "    <tr>\n",
       "      <th>Sidicaro</th>\n",
       "      <td>822.0</td>\n",
       "      <td>851.0</td>\n",
       "      <td>1014.0</td>\n",
       "      <td>742.0</td>\n",
       "      <td>238.0</td>\n",
       "      <td>76.0</td>\n",
       "      <td>13.0</td>\n",
       "      <td>15.0</td>\n",
       "      <td>1.0</td>\n",
       "      <td>34.0</td>\n",
       "      <td>...</td>\n",
       "      <td>1806.0</td>\n",
       "      <td>2012.0</td>\n",
       "      <td>2094.0</td>\n",
       "      <td>2136.0</td>\n",
       "      <td>1937.0</td>\n",
       "      <td>1516.0</td>\n",
       "      <td>972.0</td>\n",
       "      <td>971.0</td>\n",
       "      <td>889.0</td>\n",
       "      <td>896.0</td>\n",
       "    </tr>\n",
       "    <tr>\n",
       "      <th>Mateo</th>\n",
       "      <td>151.0</td>\n",
       "      <td>166.0</td>\n",
       "      <td>151.0</td>\n",
       "      <td>172.0</td>\n",
       "      <td>90.0</td>\n",
       "      <td>61.0</td>\n",
       "      <td>30.0</td>\n",
       "      <td>25.0</td>\n",
       "      <td>19.0</td>\n",
       "      <td>19.0</td>\n",
       "      <td>...</td>\n",
       "      <td>208.0</td>\n",
       "      <td>143.0</td>\n",
       "      <td>175.0</td>\n",
       "      <td>208.0</td>\n",
       "      <td>248.0</td>\n",
       "      <td>316.0</td>\n",
       "      <td>384.0</td>\n",
       "      <td>246.0</td>\n",
       "      <td>234.0</td>\n",
       "      <td>169.0</td>\n",
       "    </tr>\n",
       "  </tbody>\n",
       "</table>\n",
       "<p>13 rows × 24 columns</p>\n",
       "</div>"
      ],
      "text/plain": [
       "             0      1       2      3      4      5     6     7     8     9   \\\n",
       "Facu      638.0  581.0   476.0  298.0  139.0   30.0  17.0   5.0   2.0  10.0   \n",
       "Nacho     743.0  748.0   754.0  351.0  151.0   70.0  19.0  13.0   8.0  15.0   \n",
       "Gatti     531.0  582.0   573.0  521.0  230.0  121.0  73.0  56.0  27.0  14.0   \n",
       "German    660.0  859.0   633.0  376.0   53.0   15.0   5.0  15.0  11.0   2.0   \n",
       "Cister    325.0  353.0   367.0  335.0  117.0   32.0  22.0  20.0  23.0   3.0   \n",
       "Mati      312.0  587.0   645.0  461.0  236.0  107.0  72.0  17.0  25.0  12.0   \n",
       "lucas     140.0   90.0   102.0   45.0   30.0   18.0   4.0   5.0   7.0   3.0   \n",
       "Petrillo  106.0   98.0    91.0   87.0  121.0    8.0   6.0   1.0   2.0   2.0   \n",
       "Lioni     412.0  464.0   534.0  362.0  175.0   53.0  43.0  31.0  13.0  26.0   \n",
       "Ciro      857.0  941.0  1138.0  742.0  241.0   64.0  40.0  25.0   5.0  10.0   \n",
       "Pablo     291.0  304.0   460.0  210.0  100.0   23.0   9.0   7.0   8.0   3.0   \n",
       "Sidicaro  822.0  851.0  1014.0  742.0  238.0   76.0  13.0  15.0   1.0  34.0   \n",
       "Mateo     151.0  166.0   151.0  172.0   90.0   61.0  30.0  25.0  19.0  19.0   \n",
       "\n",
       "          ...        14      15      16      17      18      19      20  \\\n",
       "Facu      ...    1122.0  1518.0  1370.0  1700.0  1456.0  1238.0  1086.0   \n",
       "Nacho     ...     777.0  1044.0  1166.0  1216.0   980.0   963.0   748.0   \n",
       "Gatti     ...     371.0   595.0   645.0   764.0   731.0   610.0   627.0   \n",
       "German    ...     622.0  1198.0   929.0   743.0   628.0   499.0   363.0   \n",
       "Cister    ...     354.0   591.0   605.0   816.0   570.0   694.0   507.0   \n",
       "Mati      ...     216.0   365.0   723.0   709.0   655.0   434.0   441.0   \n",
       "lucas     ...     223.0   204.0   193.0   128.0   112.0   140.0   123.0   \n",
       "Petrillo  ...     110.0   206.0   160.0   274.0   187.0   144.0    78.0   \n",
       "Lioni     ...     371.0   771.0   722.0   927.0   693.0   653.0   595.0   \n",
       "Ciro      ...    1385.0  1720.0  1529.0  1589.0  1572.0  1436.0  1404.0   \n",
       "Pablo     ...     152.0   161.0   187.0   347.0   271.0   337.0   370.0   \n",
       "Sidicaro  ...    1806.0  2012.0  2094.0  2136.0  1937.0  1516.0   972.0   \n",
       "Mateo     ...     208.0   143.0   175.0   208.0   248.0   316.0   384.0   \n",
       "\n",
       "              21      22     23  \n",
       "Facu      1013.0   881.0  767.0  \n",
       "Nacho      709.0   732.0  635.0  \n",
       "Gatti      487.0   485.0  499.0  \n",
       "German     404.0   549.0  515.0  \n",
       "Cister     433.0   316.0  356.0  \n",
       "Mati       519.0   564.0  440.0  \n",
       "lucas      108.0   179.0  181.0  \n",
       "Petrillo    74.0   120.0   89.0  \n",
       "Lioni      468.0   552.0  469.0  \n",
       "Ciro      1182.0  1059.0  989.0  \n",
       "Pablo      446.0   281.0  354.0  \n",
       "Sidicaro   971.0   889.0  896.0  \n",
       "Mateo      246.0   234.0  169.0  \n",
       "\n",
       "[13 rows x 24 columns]"
      ]
     },
     "execution_count": 13,
     "metadata": {},
     "output_type": "execute_result"
    }
   ],
   "source": [
    "por_hora"
   ]
  },
  {
   "cell_type": "code",
   "execution_count": 14,
   "metadata": {},
   "outputs": [
    {
     "data": {
      "text/plain": [
       "Facu        0.828\n",
       "Nacho       0.887\n",
       "Gatti       0.845\n",
       "German      0.790\n",
       "Cister      0.849\n",
       "Mati        0.790\n",
       "lucas       0.747\n",
       "Petrillo    0.775\n",
       "Lioni       0.877\n",
       "Ciro        0.876\n",
       "Pablo       0.696\n",
       "Sidicaro    0.818\n",
       "Mateo       0.710\n",
       "dtype: float64"
      ]
     },
     "execution_count": 14,
     "metadata": {},
     "output_type": "execute_result"
    }
   ],
   "source": [
    "por_hora.T.corr().apply(lambda x: (np.sum(x)-1) / (len(x) - 1)).round(3)"
   ]
  },
  {
   "cell_type": "code",
   "execution_count": 15,
   "metadata": {
    "scrolled": true
   },
   "outputs": [
    {
     "data": {
      "text/plain": [
       "<matplotlib.axes._subplots.AxesSubplot at 0x7fd230249278>"
      ]
     },
     "execution_count": 15,
     "metadata": {},
     "output_type": "execute_result"
    },
    {
     "data": {
      "image/png": "[encoded data removed]",
      "text/plain": [
       "<Figure size 1080x1080 with 2 Axes>"
      ]
     },
     "metadata": {
      "needs_background": "light"
     },
     "output_type": "display_data"
    }
   ],
   "source": [
    "plt.figure(figsize=(15, 15))\n",
    "sns.heatmap(por_hora.T.corr(), cmap='gist_heat')"
   ]
  },
  {
   "cell_type": "markdown",
   "metadata": {},
   "source": [
    "## NLP"
   ]
  },
  {
   "cell_type": "markdown",
   "metadata": {},
   "source": [
    "# Vocabulary"
   ]
  },
  {
   "cell_type": "code",
   "execution_count": 16,
   "metadata": {
    "collapsed": true
   },
   "outputs": [],
   "source": [
    "from sklearn.feature_extraction.text import CountVectorizer"
   ]
  },
  {
   "cell_type": "code",
   "execution_count": 17,
   "metadata": {
    "collapsed": true
   },
   "outputs": [],
   "source": [
    "#def count_vocab(M):\n",
    "#    global vocab...\n",
    "#X.groupby(y).apply(count_vocab)"
   ]
  },
  {
   "cell_type": "code",
   "execution_count": 18,
   "metadata": {
    "collapsed": true
   },
   "outputs": [],
   "source": [
    "total_persona = df[~df.message.str.contains('<')].groupby('name').message.agg('sum')"
   ]
  },
  {
   "cell_type": "code",
   "execution_count": 19,
   "metadata": {
    "collapsed": true
   },
   "outputs": [],
   "source": [
    "countv = CountVectorizer().fit_transform(total_persona)"
   ]
  },
  {
   "cell_type": "code",
   "execution_count": 20,
   "metadata": {
    "collapsed": true
   },
   "outputs": [],
   "source": [
    "sum_total = np.array(countv.sum(axis = 1)).flatten() / df[~df.message.str.contains('<')].groupby('name').message.count().values"
   ]
  },
  {
   "cell_type": "code",
   "execution_count": 21,
   "metadata": {
    "scrolled": false
   },
   "outputs": [
    {
     "name": "stdout",
     "output_type": "stream",
     "text": [
      "('lucas', 3.025752946311654)\n",
      "('Cister', 3.182819383259912)\n",
      "('Petrillo', 3.3604176123468)\n",
      "('Facu', 3.714148565942638)\n",
      "('Mateo', 3.7635115813554476)\n",
      "('German', 4.134429599177801)\n",
      "('Ciro', 4.328098848085064)\n",
      "('Gatti', 4.456885890949972)\n",
      "('Mati', 4.850324837581209)\n",
      "('Sidicaro', 4.857653692752028)\n",
      "('Lioni', 4.941557703240478)\n",
      "('Pablo', 5.970021881838075)\n",
      "('Nacho', 6.176351614157915)\n"
     ]
    }
   ],
   "source": [
    "print(*sorted(zip(df[~df.message.str.contains('<')].groupby('name').count().index, sum_total), key = lambda x: x[1]), sep = '\\n')"
   ]
  },
  {
   "cell_type": "code",
   "execution_count": 154,
   "metadata": {},
   "outputs": [],
   "source": [
    "def count_word(word):\n",
    "    return df.message.apply(lambda x: len(re.findall('+'.join(word)+'+', x, flags= re.IGNORECASE))).value_counts()[1]"
   ]
  },
  {
   "cell_type": "code",
   "execution_count": 159,
   "metadata": {},
   "outputs": [
    {
     "data": {
      "text/plain": [
       "(155, 247, 110, 32)"
      ]
     },
     "execution_count": 159,
     "metadata": {},
     "output_type": "execute_result"
    }
   ],
   "source": [
    "count_word('cristina'), count_word('macri'), count_word('nefasto'), count_word('python')"
   ]
  },
  {
   "cell_type": "code",
   "execution_count": 160,
   "metadata": {
    "collapsed": true
   },
   "outputs": [],
   "source": [
    "df['bol'] = df.message.apply(lambda x: len(re.findall('b+o+l+u+d+', x)))"
   ]
  },
  {
   "cell_type": "code",
   "execution_count": 161,
   "metadata": {},
   "outputs": [
    {
     "data": {
      "image/png": "[encoded data removed]",
      "text/plain": [
       "<Figure size 1080x720 with 1 Axes>"
      ]
     },
     "metadata": {
      "needs_background": "light"
     },
     "output_type": "display_data"
    }
   ],
   "source": [
    "bol = (df.groupby('name').bol.sum() / (df[~df.message.str.contains('<')].groupby('name').bol.count())).fillna(0).sort_values()\n",
    "plt.figure(figsize=(15, 10))\n",
    "bar = sns.barplot(bol.index, bol.values)\n",
    "bar.set_xticklabels(bol.index, rotation=60);\n",
    "bar.set_yticks(np.around(bol.values, 4))\n",
    "bar.set_ylabel('Boludo rate');"
   ]
  },
  {
   "cell_type": "code",
   "execution_count": 162,
   "metadata": {},
   "outputs": [
    {
     "data": {
      "text/plain": [
       "53"
      ]
     },
     "execution_count": 162,
     "metadata": {},
     "output_type": "execute_result"
    }
   ],
   "source": [
    "df[df['name'] == 'German'].message.str.contains('b+o+l+u+d+').sum()"
   ]
  },
  {
   "cell_type": "markdown",
   "metadata": {},
   "source": [
    "# nltk?"
   ]
  },
  {
   "cell_type": "code",
   "execution_count": 163,
   "metadata": {
    "collapsed": true
   },
   "outputs": [],
   "source": [
    "import nltk\n",
    "from nltk.tokenize import MWETokenizer, word_tokenize"
   ]
  },
  {
   "cell_type": "code",
   "execution_count": 231,
   "metadata": {},
   "outputs": [
    {
     "name": "stderr",
     "output_type": "stream",
     "text": [
      "[nltk_data] Downloading package punkt to /home/matias/nltk_data...\n",
      "[nltk_data]   Package punkt is already up-to-date!\n",
      "[nltk_data] Downloading package stopwords to /home/matias/nltk_data...\n",
      "[nltk_data]   Unzipping corpora/stopwords.zip.\n"
     ]
    },
    {
     "data": {
      "text/plain": [
       "True"
      ]
     },
     "execution_count": 231,
     "metadata": {},
     "output_type": "execute_result"
    }
   ],
   "source": [
    "nltk.download('punkt')\n",
    "nltk.download('stopwords')"
   ]
  },
  {
   "cell_type": "code",
   "execution_count": 179,
   "metadata": {
    "collapsed": true
   },
   "outputs": [],
   "source": [
    "total_persona = df.groupby('name').message.agg(' '.join)"
   ]
  },
  {
   "cell_type": "code",
   "execution_count": 180,
   "metadata": {
    "collapsed": true
   },
   "outputs": [],
   "source": [
    "total_total = ' '.join(total_persona.values)"
   ]
  },
  {
   "cell_type": "code",
   "execution_count": 181,
   "metadata": {
    "collapsed": true
   },
   "outputs": [],
   "source": [
    "total_total = re.sub('<.+?>', ' ', total_total)"
   ]
  },
  {
   "cell_type": "code",
   "execution_count": 182,
   "metadata": {
    "collapsed": true
   },
   "outputs": [],
   "source": [
    "tokens = word_tokenize(total_total, language='spanish')"
   ]
  },
  {
   "cell_type": "code",
   "execution_count": 183,
   "metadata": {
    "collapsed": true
   },
   "outputs": [],
   "source": [
    "links = re.findall('(?:(?:http)|(?:www))[\\s\\S]+? ',total_total)"
   ]
  },
  {
   "cell_type": "code",
   "execution_count": 239,
   "metadata": {
    "collapsed": true
   },
   "outputs": [],
   "source": [
    "def search_word(word, n = 40):\n",
    "    pattern = '.{'+str(n)+'}' + '+'.join([l for l in word]) + '.{'+str(n)+'}'\n",
    "    return (lambda x: re.findall(pattern, x, flags= re.IGNORECASE))(total_total)"
   ]
  },
  {
   "cell_type": "code",
   "execution_count": 240,
   "metadata": {},
   "outputs": [
    {
     "data": {
      "text/plain": [
       "['ado con la organización (?) Congreso de neurociencias Uh cómo está el Gatti archivo H',\n",
       " 'ntes de estudiar Acá el especialista en neurociencias seguro me da la razón en que co',\n",
       " ' y madre Y el que vuelva a mencionar la neurociencia será castigado con la pena de to',\n",
       " 'an del maestro Así se hace ciencia A la neurociencia le faltan experimentos, empiecen',\n",
       " 'JAJAA Que hijo de puts No importa si la neurociencia está llena de maldad o no Lo imp',\n",
       " 'tan fumando weed? Pot Al toke. A quemar neuronas Que paquete jaajjs Gracias por tanto',\n",
       " 'nada mal WE ARE THE CHILDREN Estudiando neurociencia aguanta Re profesional erviti, n',\n",
       " 'ono qué haces en la favaloro estudiando neurociencia si queres trabajar de programado',\n",
       " 'Jajajajajajajajaja El desarrollo de las neurociencias es la negación de la cultura? V',\n",
       " 'porque estoy cada vez más seguro que la neurociencia sin filosofía lleva todo a la re',\n",
       " 'nometría es un tema de nomenclatura los neurocientistas Usan estadística o confían en',\n",
       " 'esiones para inferir hechos causales en neurociencias Y es lo que necesito saber jaja',\n",
       " 'e superiores que es la raza aria de las neurociencias que no hacen teoría, son doctri',\n",
       " 'aro, el tema no es el desarrollo de las neurociencias en sí puede aportar cosas inter',\n",
       " 'logía experimental, el cognitivismo, la neurologia, neurociencias, Ciencias cognitiva',\n",
       " 's hacer desde la evidencia sólida de la neurobiología ponele En lugar de decir que to',\n",
       " 'puedo denunciar  Te pasó una técnica de neurociencias para callarlo Un buen hook dere',\n",
       " 'first Me decías y te hacía unas pruebas neuropsicologicas mono Freud te diría que te ',\n",
       " 'algo en comun, como liberacion de algun neurotrasmisor, pero son infinitas las activi',\n",
       " 'as del daytona codificadas en un par de neuronas en el hipocampo Lo demostraron jaj P',\n",
       " 'e pregunto si es demostrable algo en la neurociencia me contesta \"cister puto\" Jajaja',\n",
       " 'ue nacho sos un tarado que sabes de las neurociencias decime UN hecho para las neuroc',\n",
       " 'j igual eso es solo una rama ponele, la neuropsicologia cognitiva no hace nada de gen',\n",
       " 'de corte si quienes lo usan? yo soy las neurociencias? jajaj si, se usa todo lo que e',\n",
       " 'ormula de la varianza en el mundo de la neurociencias, podes confiar que hay estadist',\n",
       " ' mas Pero ojo con a quien metes en \"los neurocientificos\" uh fue re feo guillotinar a',\n",
       " 'i curso había un físico que investigaba neuro Zarpado Las capas del occipital 🤘 Ciste',\n",
       " 'voy a proponer hacer una conferencia de neurociencias y musica Porque. Le interesa Si',\n",
       " \"ue significa que es un 'problema de las neurociencias' nadie ubico la causa del terro\",\n",
       " 'ateria jajaj la que va es la evaluacion neuropsicologica misma intención pero de verd',\n",
       " 'jemplo ver los correlatos de activacion neuronales especificos a esa tarea podes pred',\n",
       " 'a, estimar como alguien va a rendir con neuroimagenes, etc si, tambien saben que el t',\n",
       " 'ginan y a los demass si claro awante la neurociencia papa ni se entera de la diferenc',\n",
       " 'star afilado para el curso ese de redes neuronales estoy re manija quien es? ah bueno',\n",
       " 'udie literalmente 20 minutos Trastornos neurológicos y neurodegenerativos Y me saque ',\n",
       " 'rual?? 😰  esta piola ese cuadro parecen neuronas jajaj Jajaja Ahi tenes una idea de q',\n",
       " 'ios Es tremendo como en sus cabezas mononeuronales dicen \"uh ahora hay que pegar así ',\n",
       " 'ilegales bueno no me esperaba esta foto neurofracaso argentino dios santo jajajaja no',\n",
       " '.com/cultura/enamorado-consumir-cocaina-neurociencia_0_Syz8P-Uil.html @119657272  Gri',\n",
       " 's del papa El discurso apolítico de las neurociencias convierte intereses económicos ',\n",
       " 'antes de esta corriente que sitúa a las neurociencias como el paradigma biopolítico f',\n",
       " 'eja de sorprender que se presente a las neurociencias como lo más moderno cuando en r',\n",
       " 'ueva”, como dice Silvio Rodríguez). Las neurociencias intentan avanzar hacia la medic',\n",
       " ' pasé acá un artículo que decía que las neurociencias encajaban con el avance neolibe',\n",
       " 'vivi fein RIVER TIENE UNA LICENCIADA EN NEUROCIENCIAS EN EL EQUIPO Grinberg  donde es',\n",
       " 'omo le doy a la becaria embarazada OHNO NEUROCIENCIAS  Ezequiel es Pazminño? La remer',\n",
       " 'n https://www.pagina12.com.ar/59356-las-neurociencias-respaldan-la-jerarquia-de-los-s',\n",
       " 'nfo/colonizacion-de-la-subjetividad-las-neurociencias/ sobre tu amigo Manes sí cuanto',\n",
       " 'limentación del mondo \"el recurso a las neurociencias como sustitución de la sabidurí',\n",
       " ' odio También, pero la odio Así que los neurocientificos están a favor del aislamient',\n",
       " ' el gran problema es para que se usa la neurobiopsicopraxislogia no? wueno, me retiro',\n",
       " ' sea un tipo de pizza Pizza el cuartito Neurociencias en el canal de la nación Hablan',\n",
       " 'ianza de ultima quemate la parte de las neuronas que te obligan a salir con personas ',\n",
       " 'que no dice que va a ser candidata Dijo neurociencia Noooo Voto a del sel  Quizás eso',\n",
       " ' que el terrorismo es un problema de la neurociencia que calor judío que hermoso el d',\n",
       " ' no creo que hayan sido un par de locos neuroglocios por otro lado, si lo que define ']"
      ]
     },
     "execution_count": 240,
     "metadata": {},
     "output_type": "execute_result"
    }
   ],
   "source": [
    "search_word('neuro')"
   ]
  },
  {
   "cell_type": "code",
   "execution_count": 241,
   "metadata": {
    "collapsed": true
   },
   "outputs": [],
   "source": [
    "def quitar_tildes(words):\n",
    "    if isinstance(words, list):\n",
    "        return [''.join([l if l not in 'áéíúó' else 'aeiou'['áéíóú'.index(l)] for l in w]) for w in words]\n",
    "    else:\n",
    "        return ''.join([l if l not in 'áéíúó' else 'aeiou'['áéíóú'.index(l)] for l in words])"
   ]
  },
  {
   "cell_type": "code",
   "execution_count": 242,
   "metadata": {
    "collapsed": true
   },
   "outputs": [],
   "source": [
    "stop_words = nltk.corpus.stopwords.words('spanish')\n",
    "stop_words_sintilde = quitar_tildes(stop_words)"
   ]
  },
  {
   "cell_type": "markdown",
   "metadata": {},
   "source": [
    "# Modelado"
   ]
  },
  {
   "cell_type": "code",
   "execution_count": 234,
   "metadata": {
    "collapsed": true
   },
   "outputs": [],
   "source": [
    "from sklearn.feature_extraction.text import CountVectorizer, TfidfVectorizer, TfidfTransformer\n",
    "from sklearn.model_selection import cross_val_score, train_test_split\n",
    "from sklearn.metrics import confusion_matrix, classification_report\n",
    "from sklearn.multiclass import OneVsRestClassifier\n",
    "from sklearn.model_selection import GridSearchCV, RandomizedSearchCV\n",
    "from sklearn.pipeline import Pipeline\n",
    "from sklearn.ensemble import RandomForestClassifier\n",
    "from sklearn.naive_bayes import MultinomialNB"
   ]
  },
  {
   "cell_type": "code",
   "execution_count": 235,
   "metadata": {
    "collapsed": true
   },
   "outputs": [],
   "source": [
    "X = df[~df.message.str.contains('<')].message.str.lower().apply(quitar_tildes)\n",
    "y = df[~df.message.str.contains('<')].name"
   ]
  },
  {
   "cell_type": "code",
   "execution_count": 236,
   "metadata": {
    "collapsed": true
   },
   "outputs": [],
   "source": [
    "Xtrain, Xtest, ytrain, ytest = train_test_split(X, y)"
   ]
  },
  {
   "cell_type": "code",
   "execution_count": 237,
   "metadata": {},
   "outputs": [
    {
     "data": {
      "text/plain": [
       "Sidicaro    21816\n",
       "Ciro        20314\n",
       "Facu        16668\n",
       "Nacho       12858\n",
       "German       9730\n",
       "Gatti        8895\n",
       "Lioni        8795\n",
       "Mati         8004\n",
       "Cister       7719\n",
       "Pablo        4570\n",
       "Mateo        3497\n",
       "lucas        2291\n",
       "Petrillo     2203\n",
       "Name: name, dtype: int64"
      ]
     },
     "execution_count": 237,
     "metadata": {},
     "output_type": "execute_result"
    }
   ],
   "source": [
    "df.name.value_counts()"
   ]
  },
  {
   "cell_type": "code",
   "execution_count": null,
   "metadata": {},
   "outputs": [],
   "source": [
    "pipeline = Pipeline([\n",
    "    ('tfidf', TfidfVectorizer(stop_words=stop_words_sintilde)),\n",
    "    #('rd', RandomForestClassifier()),\n",
    "    ('clf', OneVsRestClassifier(MultinomialNB(\n",
    "        fit_prior=True, class_prior=None)))])\n",
    "\n",
    "parameters = {\n",
    "    'tfidf__max_df': (0.25, 0.5, 0.75),\n",
    "    'tfidf__ngram_range': [(1, 1), (1, 2), (1, 3)],\n",
    "    'clf__estimator__alpha': (1e-2, 1e-3)}\n",
    "'''\"rd__max_depth\": [3, None],\n",
    "    \"rd__max_features\": range(1, 11),\n",
    "    \"rd__min_samples_split\": range(2, 11),\n",
    "    \"rd__min_samples_leaf\": range(1, 11),\n",
    "    \"rd__bootstrap\": [True, False],\n",
    "    \"rd__criterion\": [\"gini\", \"entropy\"]}'''\n",
    "    \n",
    "grid_search_tune = RandomizedSearchCV(pipeline, parameters, cv=5, n_jobs=4, verbose=1)\n",
    "grid_search_tune.fit(Xtrain, ytrain)"
   ]
  },
  {
   "cell_type": "code",
   "execution_count": 66,
   "metadata": {},
   "outputs": [
    {
     "name": "stdout",
     "output_type": "stream",
     "text": [
      "Best parameters set:\n",
      "[('tfidf', TfidfVectorizer(analyzer='word', binary=False, decode_error='strict',\n",
      "        dtype=<class 'numpy.int64'>, encoding='utf-8', input='content',\n",
      "        lowercase=True, max_df=0.5, max_features=None, min_df=1,\n",
      "        ngram_range=(1, 2), norm='l2', preprocessor=None, smooth_idf=True,\n",
      "        stop_words=['de', 'la', 'que', 'el', 'en', 'y', 'a', 'los', 'del', 'se', 'las', 'por', 'un', 'para', 'con', 'no', 'una', 'su', 'al', 'lo', 'como', 'mas', 'pero', 'sus', 'le', 'ya', 'o', 'este', 'si', 'porque', 'esta', 'entre', 'cuando', 'muy', 'sin', 'sobre', 'tambien', 'me', 'hasta', 'hay', 'donde'...tuviesemos', 'tuvieseis', 'tuviesen', 'teniendo', 'tenido', 'tenida', 'tenidos', 'tenidas', 'tened'],\n",
      "        strip_accents=None, sublinear_tf=False,\n",
      "        token_pattern='(?u)\\\\b\\\\w\\\\w+\\\\b', tokenizer=None, use_idf=True,\n",
      "        vocabulary=None)), ('clf', OneVsRestClassifier(estimator=MultinomialNB(alpha=0.01, class_prior=None, fit_prior=True),\n",
      "          n_jobs=1))]\n"
     ]
    },
    {
     "data": {
      "text/plain": [
       "0.2523321432684556"
      ]
     },
     "execution_count": 66,
     "metadata": {},
     "output_type": "execute_result"
    }
   ],
   "source": [
    "print(\"Best parameters set:\")\n",
    "print(grid_search_tune.best_estimator_.steps)\n",
    "grid_search_tune.best_score_"
   ]
  },
  {
   "cell_type": "code",
   "execution_count": 67,
   "metadata": {
    "collapsed": true
   },
   "outputs": [],
   "source": [
    "model = grid_search_tune.best_estimator_"
   ]
  },
  {
   "cell_type": "code",
   "execution_count": 68,
   "metadata": {},
   "outputs": [
    {
     "name": "stdout",
     "output_type": "stream",
     "text": [
      "             precision    recall  f1-score   support\n",
      "\n",
      "       Ciro       0.31      0.33      0.32      5194\n",
      "     Cister       0.22      0.14      0.17      1883\n",
      "       Facu       0.26      0.27      0.26      4183\n",
      "      Gatti       0.27      0.13      0.18      2259\n",
      "     German       0.26      0.16      0.20      2362\n",
      "      Lioni       0.20      0.11      0.14      2228\n",
      "      Mateo       0.15      0.05      0.08       879\n",
      "       Mati       0.35      0.25      0.30      1964\n",
      "      Nacho       0.30      0.23      0.26      3244\n",
      "      Pablo       0.21      0.08      0.12      1131\n",
      "   Petrillo       0.20      0.04      0.07       541\n",
      "   Sidicaro       0.23      0.52      0.32      5396\n",
      "      lucas       0.18      0.04      0.07       574\n",
      "\n",
      "avg / total       0.26      0.26      0.24     31838\n",
      "\n"
     ]
    },
    {
     "data": {
      "text/plain": [
       "<matplotlib.axes._subplots.AxesSubplot at 0x7f471d3362e8>"
      ]
     },
     "execution_count": 68,
     "metadata": {},
     "output_type": "execute_result"
    },
    {
     "data": {
      "image/png": "[encoded data removed]",
      "text/plain": [
       "<matplotlib.figure.Figure at 0x7f4733e0af60>"
      ]
     },
     "metadata": {},
     "output_type": "display_data"
    }
   ],
   "source": [
    "ypred = grid_search_tune.predict(Xtest)\n",
    "print(classification_report(ytest, ypred))\n",
    "plt.figure(figsize=(20, 20))\n",
    "sns.heatmap(confusion_matrix(ytest, ypred), annot= True,  fmt='g')"
   ]
  }
 ],
 "metadata": {
  "kernelspec": {
   "display_name": "Python 3",
   "language": "python",
   "name": "python3"
  },
  "language_info": {
   "codemirror_mode": {
    "name": "ipython",
    "version": 3
   },
   "file_extension": ".py",
   "mimetype": "text/x-python",
   "name": "python",
   "nbconvert_exporter": "python",
   "pygments_lexer": "ipython3",
   "version": "3.7.1"
  }
 },
 "nbformat": 4,
 "nbformat_minor": 2
}
